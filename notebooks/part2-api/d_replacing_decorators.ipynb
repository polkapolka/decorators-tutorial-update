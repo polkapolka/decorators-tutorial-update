{
 "cells": [
  {
   "cell_type": "markdown",
   "metadata": {},
   "source": [
    "#### Concepts: A decorator doesn't have to return the original function. *args and **kwargs.\n",
    "\n",
    "Decorators often take a callable and return some other callable in its place!\n",
    "\n",
    "The only trick is that the replacement callable probably needs to\n",
    "allow being called with the signature of the original callable.\n",
    "\n",
    "Running the exercise should result in successfully calling some_other_function\n",
    "every time we think we're calling `no_args`, `one_args`, and so forth.\n",
    "\n",
    "We should report what arguments were passed to our surprise function:\n",
    "```bash\n",
    "$ python d_replacing_decorators.py\n",
    "surprise! () {}\n",
    "surprise! (10,) {}\n",
    "surprise! (10,) {'y': 1}\n",
    "surprise! (1, 2, 3) {'y': 10}\n",
    "```\n",
    "But it doesn't work because `some_other_function` doesn't have a signature that\n",
    "allows it to be called in all those ways. Currently you should see:\n",
    "```bash\n",
    "$ python d_replacing_decorators.py\n",
    "surprise!\n",
    "Traceback (most recent call last):\n",
    "    File \"d_replacing_decorators.py\", line 57, in <module>\n",
    "    one_arg(10)\n",
    "TypeError: some_other_function() takes 0 positional arguments but 1 was given\n",
    "```\n",
    "Can you fix `some_other_function` so it can be called any way a function can be called?\n",
    "\n",
    "Hint: This is simple if you know about *args and **kwargs"
   ]
  },
  {
   "cell_type": "code",
   "execution_count": 7,
   "metadata": {},
   "outputs": [],
   "source": [
    "def some_other_function():\n",
    "  print(\"surprise!\")\n",
    "\n",
    "def replace(f):\n",
    "  return some_other_function\n",
    "\n",
    "@replace\n",
    "def no_args():\n",
    "    print(\"No args\")\n",
    "\n",
    "@replace\n",
    "def one_arg(x):\n",
    "    print(\"One arg and it was: {}\".format(x))\n",
    "\n",
    "\n",
    "@replace\n",
    "def more_args(x, y=None):\n",
    "    print(\"One positional arg, one named arg: {}, {}\".format(x, y))\n",
    "\n",
    "\n",
    "@replace\n",
    "def super_flexible(*args, **kwargs):\n",
    "    print(\"Called a variety of ways: {}, {}\".format(args, kwargs))"
   ]
  },
  {
   "cell_type": "code",
   "execution_count": 8,
   "metadata": {},
   "outputs": [
    {
     "name": "stdout",
     "output_type": "stream",
     "text": [
      "surprise!\n"
     ]
    },
    {
     "ename": "TypeError",
     "evalue": "some_other_function() takes 0 positional arguments but 1 was given",
     "output_type": "error",
     "traceback": [
      "\u001b[0;31m---------------------------------------------------------------------------\u001b[0m",
      "\u001b[0;31mTypeError\u001b[0m                                 Traceback (most recent call last)",
      "Cell \u001b[0;32mIn[8], line 2\u001b[0m\n\u001b[1;32m      1\u001b[0m no_args()\n\u001b[0;32m----> 2\u001b[0m \u001b[43mone_arg\u001b[49m\u001b[43m(\u001b[49m\u001b[38;5;241;43m10\u001b[39;49m\u001b[43m)\u001b[49m\n\u001b[1;32m      3\u001b[0m more_args(\u001b[38;5;241m10\u001b[39m, y\u001b[38;5;241m=\u001b[39m\u001b[38;5;241m1\u001b[39m)\n\u001b[1;32m      4\u001b[0m super_flexible(\u001b[38;5;241m1\u001b[39m, \u001b[38;5;241m2\u001b[39m, \u001b[38;5;241m3\u001b[39m, y\u001b[38;5;241m=\u001b[39m\u001b[38;5;241m10\u001b[39m)\n",
      "\u001b[0;31mTypeError\u001b[0m: some_other_function() takes 0 positional arguments but 1 was given"
     ]
    }
   ],
   "source": [
    "no_args()\n",
    "one_arg(10)\n",
    "more_args(10, y=1)\n",
    "super_flexible(1, 2, 3, y=10)"
   ]
  }
 ],
 "metadata": {
  "kernelspec": {
   "display_name": "Python 3",
   "language": "python",
   "name": "python3"
  },
  "language_info": {
   "codemirror_mode": {
    "name": "ipython",
    "version": 3
   },
   "file_extension": ".py",
   "mimetype": "text/x-python",
   "name": "python",
   "nbconvert_exporter": "python",
   "pygments_lexer": "ipython3",
   "version": "3.10.13"
  }
 },
 "nbformat": 4,
 "nbformat_minor": 2
}
