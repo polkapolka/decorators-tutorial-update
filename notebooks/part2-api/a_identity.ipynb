{
 "cells": [
  {
   "cell_type": "markdown",
   "metadata": {},
   "source": [
    "#### Concepts: What is a decorator? What's up with the @ symbol?\n",
    "\n",
    "The easiest decorator to make is one that doesn't do anything at all.\n",
    "\n",
    "The functions in this file are decorated with a non-existent\n",
    "decorator. Provide an implementation that doesn't do anything at all.\n",
    "\n",
    "Running the notebook should result in:\n",
    "```bash\n",
    "[1, 2, 3]\n",
    "```\n",
    "\n",
    "\n",
    "But it doesn't because of that pesky @endpoint decorator. You probably see\n",
    "```bash\n",
    "Traceback (most recent call last):\n",
    "  File \"a_identity.py\", line 18, in <module>\n",
    "    @endpoint\n",
    "NameError: name 'endpoint' is not defined\n",
    "```\n",
    "We don't know what that decorator is supposed to do yet, so implement\n",
    "a decorator that doesn't add any extra functionality.\n"
   ]
  },
  {
   "cell_type": "code",
   "execution_count": 1,
   "metadata": {},
   "outputs": [],
   "source": [
    "# Create your decorator `endpoint` here\n"
   ]
  },
  {
   "cell_type": "code",
   "execution_count": 2,
   "metadata": {},
   "outputs": [
    {
     "ename": "NameError",
     "evalue": "name 'endpoint' is not defined",
     "output_type": "error",
     "traceback": [
      "\u001b[0;31m---------------------------------------------------------------------------\u001b[0m",
      "\u001b[0;31mNameError\u001b[0m                                 Traceback (most recent call last)",
      "Cell \u001b[0;32mIn[2], line 2\u001b[0m\n\u001b[1;32m      1\u001b[0m \u001b[38;5;66;03m# Do not edit this cell\u001b[39;00m\n\u001b[0;32m----> 2\u001b[0m \u001b[38;5;129m@endpoint\u001b[39m\n\u001b[1;32m      3\u001b[0m \u001b[38;5;28;01mdef\u001b[39;00m \u001b[38;5;21msessions\u001b[39m(event_id):\n\u001b[1;32m      4\u001b[0m \u001b[38;5;250m    \u001b[39m\u001b[38;5;124;03m\"\"\"Returns the session ids for the event.\"\"\"\u001b[39;00m\n\u001b[1;32m      5\u001b[0m     \u001b[38;5;28;01mreturn\u001b[39;00m [\u001b[38;5;241m1\u001b[39m, \u001b[38;5;241m2\u001b[39m, \u001b[38;5;241m3\u001b[39m]\n",
      "\u001b[0;31mNameError\u001b[0m: name 'endpoint' is not defined"
     ]
    }
   ],
   "source": [
    "# Do not edit this cell\n",
    "@endpoint\n",
    "def sessions(event_id):\n",
    "    \"\"\"Returns the session ids for the event.\"\"\"\n",
    "    return [1, 2, 3]\n",
    "\n",
    "\n",
    "@endpoint\n",
    "def events():\n",
    "    \"\"\"Returns the events to which you have access\"\"\"\n",
    "    return [2717]\n"
   ]
  },
  {
   "cell_type": "code",
   "execution_count": null,
   "metadata": {},
   "outputs": [],
   "source": [
    "# Do not edit this cell\n",
    "event_id = events()[0]\n",
    "sessions(event_id)"
   ]
  }
 ],
 "metadata": {
  "kernelspec": {
   "display_name": "Python 3",
   "language": "python",
   "name": "python3"
  },
  "language_info": {
   "codemirror_mode": {
    "name": "ipython",
    "version": 3
   },
   "file_extension": ".py",
   "mimetype": "text/x-python",
   "name": "python",
   "nbconvert_exporter": "python",
   "pygments_lexer": "ipython3",
   "version": "3.10.13"
  }
 },
 "nbformat": 4,
 "nbformat_minor": 2
}
