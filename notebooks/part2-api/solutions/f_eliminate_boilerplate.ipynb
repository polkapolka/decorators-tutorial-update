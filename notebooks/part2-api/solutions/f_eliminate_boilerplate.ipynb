{
 "cells": [
  {
   "cell_type": "markdown",
   "metadata": {},
   "source": [
    "Concepts. Configurable decorators. Implementing decorators with classes.\n",
    "\n",
    "Remember this? Our API client just as before (+ inspecting methods for\n",
    "arguments and adding them as flags).\n",
    "\n",
    "It should work like:\n",
    "\n",
    "```bash\n",
    "    $ python f_eliminate_boilerplate.py events\n",
    "    {'ids': [1, 4]}\n",
    "    $ python f_eliminate_boilerplate.py sessions --help\n",
    "    usage: f_eliminate_boilerplate.py sessions [-h] [--event_id EVENT_ID]\n",
    "\n",
    "    optional arguments:\n",
    "      -h, --help           show this help message and exit\n",
    "      --event_id EVENT_ID\n",
    "    $ python f_eliminate_boilerplate.py sessions --event_id=4\n",
    "    {'sessions': [{'title': 'Decorator Tutorial'}, {'title': 'Data Science SIG'}]}\n",
    "```\n",
    "But now that we talk to a real (well, imaginary-real) API our endpoints are full\n",
    "of boilerplate. Wouldn't it be cool if our endpoints looked more like:\n",
    "```bash\n",
    "    @Endpoint(\"/sessions/{}.json\", args=('event_id'))\n",
    "    def sessions(self, data):\n",
    "      return data\n",
    "\n",
    "    @Endpoint(\"/events.json\")\n",
    "    def sessions(self, data):\n",
    "      return data\n",
    "```\n",
    "Can you make our @Endpoint decorator eliminate that duplicate setup code?\n",
    "\n",
    "For this you need a configurable decorator! That's a callable you can call that\n",
    "returns a callable that is a decorator. A class returns an object... and an\n",
    "object is callable if it has a __call__ method... See the Decorator class below\n",
    "for some ideas."
   ]
  },
  {
   "cell_type": "code",
   "execution_count": 3,
   "metadata": {},
   "outputs": [],
   "source": [
    "import argparse\n",
    "import functools\n",
    "import inspect\n",
    "import json\n",
    "import urllib.request as request\n",
    "\n",
    "class Endpoint:\n",
    "\n",
    "    class ApiException(Exception):\n",
    "        \"\"\"Exception for error calling API endpoints\"\"\"\n",
    "\n",
    "\n",
    "    def __init__(self, path, args=()):\n",
    "        self.path = path\n",
    "        self.args = args\n",
    "    def __call__(self, f):\n",
    "        f._endpoint = self\n",
    "        @functools.wraps(f)\n",
    "        def wrapper(self, **kwargs):  # Takes self because we're replacing a method but self is RemoteAPI, not Endpoint\n",
    "            for k, v in kwargs.items():\n",
    "              if v is None:\n",
    "                raise f._endpoint.ApiException(\"Argument {} cannot be empty\".format(k))\n",
    "              if k not in kwargs:\n",
    "                raise f._endpoint.ApiException(\"Argument {} not found in args list\".format(k))\n",
    "\n",
    "            auth = self.build_authentication_headers()\n",
    "            url = self.SERVER + f._endpoint.path\n",
    "            r = request.Request(url.format(**kwargs), headers=auth)\n",
    "            with request.urlopen(r) as fp:\n",
    "              data = json.load(fp)\n",
    "            return f(self, data)\n",
    "        return wrapper\n",
    "\n",
    "\n",
    "def collect(klass):\n",
    "    for name, val in vars(klass).items():\n",
    "      if getattr(val, '_endpoint', False):\n",
    "        klass.ENDPOINTS[name] = val\n",
    "    return klass\n",
    "\n",
    "\n",
    "\n",
    "@collect\n",
    "class RemoteAPI:\n",
    "    ENDPOINTS = {}\n",
    "    SERVER = \"http://simeonfranklin.com/labs/api\"\n",
    "    def __init__(self, secrets=None):\n",
    "        # Presumably load some secrets from a file so we can authenticate our client\n",
    "        pass\n",
    "\n",
    "    def build_authentication_headers(self):\n",
    "        \"\"\"Let's pretend we need to send some headers to be authenticated to our API.\"\"\"\n",
    "        return {}\n",
    "\n",
    "    @Endpoint(\"/sessions/{event_id}.json\", args=('event_id',))\n",
    "    def sessions(self, data):\n",
    "        \"\"\"Returns the session ids for the given event_id.\"\"\"\n",
    "        return data['sessions']\n",
    "\n",
    "    @Endpoint('/events.json')\n",
    "    def events(self, data):\n",
    "        \"\"\"Returns the events to which you have access\"\"\"\n",
    "        return data['ids']\n"
   ]
  },
  {
   "cell_type": "code",
   "execution_count": 6,
   "metadata": {},
   "outputs": [
    {
     "data": {
      "application/vnd.jupyter.widget-view+json": {
       "model_id": "737fbfa7eb274430bcefe3f8b8d60432",
       "version_major": 2,
       "version_minor": 0
      },
      "text/plain": [
       "Text(value='', description='Input:', placeholder='events or sessions')"
      ]
     },
     "metadata": {},
     "output_type": "display_data"
    },
    {
     "data": {
      "application/vnd.jupyter.widget-view+json": {
       "model_id": "17d47cd810fe4cb7827d514bf55d5ecd",
       "version_major": 2,
       "version_minor": 0
      },
      "text/plain": [
       "Button(button_style='success', description='Click me', icon='check', style=ButtonStyle(), tooltip='Click me')"
      ]
     },
     "metadata": {},
     "output_type": "display_data"
    },
    {
     "data": {
      "application/vnd.jupyter.widget-view+json": {
       "model_id": "17beb2eb0cc94e929ac5e83627f62bf7",
       "version_major": 2,
       "version_minor": 0
      },
      "text/plain": [
       "Output()"
      ]
     },
     "metadata": {},
     "output_type": "display_data"
    }
   ],
   "source": [
    "# Do not edit this cell\n",
    "import ipywidgets as widgets\n",
    "from IPython.display import display\n",
    "inbox = widgets.Text(\n",
    "    value='',\n",
    "    placeholder='events or sessions',\n",
    "    description='Input:',\n",
    "    disabled=False   \n",
    ")\n",
    "button = widgets.Button(description='Click me',\n",
    "    disabled=False,\n",
    "    button_style='success', # 'success', 'info', 'warning', 'danger' or ''\n",
    "    tooltip='Click me',\n",
    "    icon='check')\n",
    "out = widgets.Output()\n",
    "d = display(inbox, button, out)\n",
    "def on_button_click(b):\n",
    "    with out:\n",
    "        # Setup CLI options\n",
    "        parser = argparse.ArgumentParser(prog='f_eliminate_boilerplate.py')\n",
    "        # Add a subcommand for every endpoint we've implemented\n",
    "        subparsers = parser.add_subparsers(\n",
    "            title=\"Endpoints\",\n",
    "            help=\"The following endpoints are supported:\",\n",
    "            dest=\"subcommand\",\n",
    "        )\n",
    "        client = RemoteAPI()\n",
    "        # Using inspect to add flags for endpoint arguments ommitted for brevity\n",
    "        for (name, func) in client.ENDPOINTS.items():\n",
    "            # print(name, func.__name__, func._endpoint.args)\n",
    "            sub = subparsers.add_parser(name, help=func.__doc__)\n",
    "            for param in func._endpoint.args:  # We attached the decorator instance to the method and it has the args\n",
    "                sub.add_argument(f\"--{param}\")\n",
    "\n",
    "        # Pick a subcommand to run\n",
    "        cmd = inbox.value.strip().split()\n",
    "        # print(cmd, parser)\n",
    "        try:\n",
    "            args = parser.parse_args(cmd)\n",
    "        except SystemExit as err:\n",
    "            return\n",
    "        if not args.subcommand:\n",
    "            print(\"Please specify a subcommand\")\n",
    "            return\n",
    "        # print(args.subcommand)\n",
    "        print(vars(args))\n",
    "        function = client.ENDPOINTS[args.subcommand]\n",
    "        call_args = vars(args)\n",
    "        call_args.pop('subcommand') # remove the subcommand arg, everything left is passed to endpoint\n",
    "        print(function(client, **call_args)) \n",
    "\n",
    "button.on_click(on_button_click)\n"
   ]
  }
 ],
 "metadata": {
  "kernelspec": {
   "display_name": "Python 3",
   "language": "python",
   "name": "python3"
  },
  "language_info": {
   "codemirror_mode": {
    "name": "ipython",
    "version": 3
   },
   "file_extension": ".py",
   "mimetype": "text/x-python",
   "name": "python",
   "nbconvert_exporter": "python",
   "pygments_lexer": "ipython3",
   "version": "3.10.13"
  }
 },
 "nbformat": 4,
 "nbformat_minor": 2
}
