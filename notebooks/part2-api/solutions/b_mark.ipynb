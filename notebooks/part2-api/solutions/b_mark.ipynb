{
 "cells": [
  {
   "cell_type": "markdown",
   "metadata": {},
   "source": [
    "#### Concepts: identity decorators are a way to have side effects at function definition time.\n",
    "\n",
    "\n",
    "Here's the same exercise with an argparse CLI addded. The idea is that we\n",
    "should see a subcommand for each endpoint supported. It should work like:\n",
    "\n",
    "```bash\n",
    "    $ python b_mark.py --help\n",
    "    usage: b_mark.py [-h] {events,sessions} ...\n",
    "\n",
    "    optional arguments:\n",
    "      -h, --help         show this help message and exit\n",
    "\n",
    "    Endpoints:\n",
    "      {events,sessions}  The following endpoints are supported:\n",
    "        events           Returns the events to which you have access\n",
    "        sessions         Returns the session ids for the event.\n",
    "    $ python b_mark.py events\n",
    "    [2717]\n",
    "    $ python b_mark.py sessions\n",
    "    [1, 2, 3]\n",
    "```\n",
    "However currently you probably see:\n",
    "```bash\n",
    "    $ python b_mark.py --help\n",
    "    usage: b_mark.py [-h] {} ...\n",
    "\n",
    "    optional arguments:\n",
    "      -h, --help  show this help message and exit\n",
    "\n",
    "    Endpoints:\n",
    "      {}          The following endpoints are supported:\n",
    "```\n",
    "Go ahead and work on the identity decorator `endpoint` - it really is useful! It\n",
    "should still return the function it received but it also provides an opportunity\n",
    "to also store information about which functions were decorated in the ENDPOINTS\n",
    "dictionary which is expected to be a mapping of `{\"name\": function}`.\n",
    "\n",
    "This pattern is super useful any time you need to do function discovery or\n",
    "registration: eg these functions are tests, these functions are plugins, these\n",
    "functions are string filters and safe to call in the template, these functions\n",
    "are \"views\" and can be routed to, etc etc...\n",
    "\n"
   ]
  },
  {
   "cell_type": "code",
   "execution_count": 1,
   "metadata": {},
   "outputs": [],
   "source": [
    "# Create your decorator `endpoint` here\n",
    "ENDPOINTS = {}\n",
    "\n",
    "def endpoint(f):\n",
    "    ENDPOINTS[f.__name__] = f\n",
    "    return f"
   ]
  },
  {
   "cell_type": "code",
   "execution_count": 2,
   "metadata": {},
   "outputs": [],
   "source": [
    "# Do not edit this cell\n",
    "\n",
    "@endpoint\n",
    "def sessions(event_id=None):\n",
    "    \"\"\"Returns the session ids for the event.\"\"\"\n",
    "    return [1, 2, 3]\n",
    "\n",
    "\n",
    "@endpoint\n",
    "def events():\n",
    "    \"\"\"Returns the events to which you have access\"\"\"\n",
    "    return [2717]\n",
    "\n"
   ]
  },
  {
   "cell_type": "code",
   "execution_count": 7,
   "metadata": {},
   "outputs": [
    {
     "data": {
      "application/vnd.jupyter.widget-view+json": {
       "model_id": "97960c84177643f185eb7a68f6293f46",
       "version_major": 2,
       "version_minor": 0
      },
      "text/plain": [
       "Text(value='', description='Input:', placeholder='events or sessions')"
      ]
     },
     "metadata": {},
     "output_type": "display_data"
    },
    {
     "data": {
      "application/vnd.jupyter.widget-view+json": {
       "model_id": "422c0798b1e843c3813e358f370b8f0e",
       "version_major": 2,
       "version_minor": 0
      },
      "text/plain": [
       "Button(button_style='success', description='Click me', icon='check', style=ButtonStyle(), tooltip='Click me')"
      ]
     },
     "metadata": {},
     "output_type": "display_data"
    },
    {
     "data": {
      "application/vnd.jupyter.widget-view+json": {
       "model_id": "2299fb51c9c948cb9e786e5dfcc72721",
       "version_major": 2,
       "version_minor": 0
      },
      "text/plain": [
       "Output()"
      ]
     },
     "metadata": {},
     "output_type": "display_data"
    }
   ],
   "source": [
    "# Do not edit this cell\n",
    "import ipywidgets as widgets\n",
    "from IPython.display import display\n",
    "inbox = widgets.Text(\n",
    "    value='',\n",
    "    placeholder='events or sessions',\n",
    "    description='Input:',\n",
    "    disabled=False   \n",
    ")\n",
    "button = widgets.Button(description='Click me',\n",
    "    disabled=False,\n",
    "    button_style='success', # 'success', 'info', 'warning', 'danger' or ''\n",
    "    tooltip='Click me',\n",
    "    icon='check')\n",
    "out = widgets.Output()\n",
    "d = display(inbox, button, out)\n",
    "def on_button_click(b):\n",
    "    with out:\n",
    "        # Using inspect to add flags for endpoint arguments ommitted for brevity\n",
    "        def default_function():\n",
    "            print(\"Please specify a command.\")\n",
    "            print(\"command\\t\\tdescriptions\")\n",
    "            for (name, func) in ENDPOINTS.items():\n",
    "                print(\"\\t\".join([f\"{name: <15}\", func.__doc__]))\n",
    "            return \"\"\n",
    "        # Run command\n",
    "        function = ENDPOINTS.get(inbox.value.split()[0], default_function)\n",
    "        print(function())\n",
    "\n",
    "button.on_click(on_button_click)"
   ]
  }
 ],
 "metadata": {
  "kernelspec": {
   "display_name": "Python 3",
   "language": "python",
   "name": "python3"
  },
  "language_info": {
   "codemirror_mode": {
    "name": "ipython",
    "version": 3
   },
   "file_extension": ".py",
   "mimetype": "text/x-python",
   "name": "python",
   "nbconvert_exporter": "python",
   "pygments_lexer": "ipython3",
   "version": "3.10.13"
  }
 },
 "nbformat": 4,
 "nbformat_minor": 2
}
