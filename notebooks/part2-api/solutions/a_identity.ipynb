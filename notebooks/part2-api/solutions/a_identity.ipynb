{
 "cells": [
  {
   "cell_type": "markdown",
   "metadata": {},
   "source": [
    "#### Concepts: What is a decorator? What's up with the @ symbol?\n",
    "\n",
    "The easiest decorator to make is one that doesn't do anything at all.\n",
    "\n",
    "The functions in this file are decorated with a non-existent\n",
    "decorator. Provide an implementation that doesn't do anything at all.\n",
    "\n",
    "Running the notebook should result in:\n",
    "```bash\n",
    "[1, 2, 3]\n",
    "```\n",
    "\n",
    "\n",
    "But it doesn't because of that pesky @endpoint decorator. You probably see\n",
    "```bash\n",
    "Traceback (most recent call last):\n",
    "  File \"a_identity.py\", line 18, in <module>\n",
    "    @endpoint\n",
    "NameError: name 'endpoint' is not defined\n",
    "```\n",
    "We don't know what that decorator is supposed to do yet, so implement\n",
    "a decorator that doesn't add any extra functionality.\n"
   ]
  },
  {
   "cell_type": "code",
   "execution_count": 1,
   "metadata": {},
   "outputs": [],
   "source": [
    "# Create your decorator `endpoint` here\n",
    "def endpoint(f):\n",
    "    return f"
   ]
  },
  {
   "cell_type": "code",
   "execution_count": 2,
   "metadata": {},
   "outputs": [],
   "source": [
    "# Do not edit this cell\n",
    "@endpoint\n",
    "def sessions(event_id):\n",
    "    \"\"\"Returns the session ids for the event.\"\"\"\n",
    "    return [1, 2, 3]\n",
    "\n",
    "\n",
    "@endpoint\n",
    "def events():\n",
    "    \"\"\"Returns the events to which you have access\"\"\"\n",
    "    return [2717]\n"
   ]
  },
  {
   "cell_type": "code",
   "execution_count": 3,
   "metadata": {},
   "outputs": [
    {
     "data": {
      "text/plain": [
       "[1, 2, 3]"
      ]
     },
     "execution_count": 3,
     "metadata": {},
     "output_type": "execute_result"
    }
   ],
   "source": [
    "# Do not edit this cell\n",
    "event_id = events()[0]\n",
    "sessions(event_id)"
   ]
  }
 ],
 "metadata": {
  "kernelspec": {
   "display_name": "Python 3",
   "language": "python",
   "name": "python3"
  },
  "language_info": {
   "codemirror_mode": {
    "name": "ipython",
    "version": 3
   },
   "file_extension": ".py",
   "mimetype": "text/x-python",
   "name": "python",
   "nbconvert_exporter": "python",
   "pygments_lexer": "ipython3",
   "version": "3.10.13"
  }
 },
 "nbformat": 4,
 "nbformat_minor": 2
}
