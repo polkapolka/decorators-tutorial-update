{
 "cells": [
  {
   "cell_type": "markdown",
   "metadata": {},
   "source": [
    "#### Concepts: you can decorate methods. And classes!\n",
    "\n",
    "Same thing but for classes. This introduces a new wrinkle when decorating methods.\n",
    "\n",
    "The problem is that our decorator is invoked as each method is defined - we get\n",
    "the function that results from the definition.\n",
    "\n",
    "But to store that function `funct` we're going to need to have access to the\n",
    "containing class to get to the `ENDPOINTS` class variable... and the class\n",
    "hasn't been defined when our decorator runs!\n",
    "\n",
    "We need to defer actually collecting the methods until after the class has been\n",
    "defined - when it can be done by a class decorator!\n",
    "\n",
    "Update the `endpoint` decorator to mark decorated methods and then update the\n",
    "`collect` decorator to loop through the attributes of the class finding the\n",
    "methods we marked and storing them in the `RemoteAPI.ENDPOINTS` dict.\n",
    "\n",
    "Hint: help(vars). Also - functions are objects like anything else, open by\n",
    "default so its totally fine to say `function._my_mark = 1`"
   ]
  },
  {
   "cell_type": "code",
   "execution_count": 1,
   "metadata": {},
   "outputs": [],
   "source": [
    "\n",
    "\n",
    "def endpoint(f):\n",
    "    f._endpoint = True # Modify the method (slightly)!\n",
    "    return f\n",
    "\n",
    "\n",
    "def collect(klass):\n",
    "    for name, attr in vars(klass).items():\n",
    "        if getattr(attr, \"_endpoint\", False):  # No idea what attr is. But does it have a ._endpoint\n",
    "            klass.ENDPOINTS[name] = attr  # then stuff it in the dict as befor\n",
    "    return klass\n",
    "\n",
    "def default_function(klass):\n",
    "    return \"help\"\n",
    "\n",
    "@collect\n",
    "class RemoteAPI:\n",
    "    ENDPOINTS = {}\n",
    "\n",
    "    def __init__(self, secrets=None):\n",
    "        # Presumably load some secrets from a file so we can authenticate our client\n",
    "        pass\n",
    "\n",
    "    @endpoint\n",
    "    def sessions(self, event_id=None):\n",
    "        \"\"\"Returns the session ids for the event.\"\"\"\n",
    "        return [1, 2, 3]\n",
    "\n",
    "    @endpoint\n",
    "    def events(self):\n",
    "        \"\"\"Returns the events to which you have access\"\"\"\n",
    "        return [2717]"
   ]
  },
  {
   "cell_type": "code",
   "execution_count": 5,
   "metadata": {},
   "outputs": [
    {
     "data": {
      "application/vnd.jupyter.widget-view+json": {
       "model_id": "f623c23fa5db4d5f804468777bb94b6c",
       "version_major": 2,
       "version_minor": 0
      },
      "text/plain": [
       "Text(value='', description='Input:', placeholder='events or sessions')"
      ]
     },
     "metadata": {},
     "output_type": "display_data"
    },
    {
     "data": {
      "application/vnd.jupyter.widget-view+json": {
       "model_id": "85b31444d38e4c91a6279e5f6f4e8a67",
       "version_major": 2,
       "version_minor": 0
      },
      "text/plain": [
       "Button(button_style='success', description='Click me', icon='check', style=ButtonStyle(), tooltip='Click me')"
      ]
     },
     "metadata": {},
     "output_type": "display_data"
    },
    {
     "data": {
      "application/vnd.jupyter.widget-view+json": {
       "model_id": "8f40984e1a4a4eab8b7dab26866aa016",
       "version_major": 2,
       "version_minor": 0
      },
      "text/plain": [
       "Output()"
      ]
     },
     "metadata": {},
     "output_type": "display_data"
    }
   ],
   "source": [
    "# Do not edit this cell\n",
    "import ipywidgets as widgets\n",
    "from IPython.display import display\n",
    "inbox = widgets.Text(\n",
    "    value='',\n",
    "    placeholder='events or sessions',\n",
    "    description='Input:',\n",
    "    disabled=False   \n",
    ")\n",
    "button = widgets.Button(description='Click me',\n",
    "    disabled=False,\n",
    "    button_style='success', # 'success', 'info', 'warning', 'danger' or ''\n",
    "    tooltip='Click me',\n",
    "    icon='check')\n",
    "out = widgets.Output()\n",
    "d = display(inbox, button, out)\n",
    "def on_button_click(b):\n",
    "    with out:\n",
    "        # Using inspect to add flags for endpoint arguments ommitted for brevity\n",
    "        def default_function(klass):\n",
    "            print(\"Please specify a command.\")\n",
    "            print(\"command\\t\\tdescriptions\")\n",
    "            for (name, func) in klass.ENDPOINTS.items():\n",
    "                print(\"\\t\".join([f\"{name: <15}\", func.__doc__]))\n",
    "            return \"\"\n",
    "        # Run command\n",
    "        client = RemoteAPI()\n",
    "        funct = client.ENDPOINTS.get(inbox.value.split()[0], default_function)\n",
    "        print(funct(client))  # Passing the instance of RemoteAPI to self. Do you know why?\n",
    "\n",
    "button.on_click(on_button_click)"
   ]
  }
 ],
 "metadata": {
  "kernelspec": {
   "display_name": "Python 3",
   "language": "python",
   "name": "python3"
  },
  "language_info": {
   "codemirror_mode": {
    "name": "ipython",
    "version": 3
   },
   "file_extension": ".py",
   "mimetype": "text/x-python",
   "name": "python",
   "nbconvert_exporter": "python",
   "pygments_lexer": "ipython3",
   "version": "3.10.13"
  }
 },
 "nbformat": 4,
 "nbformat_minor": 2
}
