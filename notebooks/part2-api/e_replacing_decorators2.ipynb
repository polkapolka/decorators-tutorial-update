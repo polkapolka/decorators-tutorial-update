{
 "cells": [
  {
   "cell_type": "markdown",
   "metadata": {},
   "source": [
    "#### Concepts: functional closures for implementing original + new behavior. functools.wraps\n",
    "\n",
    "Let's take this one step further: what if we want to do something with the\n",
    "arguments in some way but still call the original function to do what the\n",
    "original function does?\n",
    "\n",
    "The identity decorator won't help us here - we need to replace the original\n",
    "function with a new function that accepts the arguments, does something with\n",
    "them, then calls the original function. It also needs to \"just know\" what\n",
    "function it is replacing since that info won't be passed in.\n",
    "\n",
    "One way is to use a functional closure - nested function definitions and access\n",
    "to the enclosing functions' scope let each new definition of `wrapper` remember\n",
    "which function it is replacing.\n",
    "\n",
    "This works as is - but I'm unhappy that now I can see the `wrapper` function\n",
    "when I think I'm looking at the functions we decorated.\n",
    "```bash\n",
    "    $ python e_replacing_decorators2.py\n",
    "    LOG:  (10,) {}\n",
    "    One arg and it was: 10\n",
    "    LOG:  (1, 2, 3) {'y': 10}\n",
    "    Called a variety of ways: (1, 2, 3), {'y': 10}\n",
    "    Access metadata for <function replace.<locals>.wrapper at 0x1031b1ae8>\n",
    "    None\n",
    "```\n",
    "Fix this with functools.wraps! Look at the help if you've never used `wraps`."
   ]
  },
  {
   "cell_type": "code",
   "execution_count": 1,
   "metadata": {},
   "outputs": [],
   "source": [
    "import inspect\n",
    "import functools\n",
    "\n",
    "def replace(f):\n",
    "  def wrapper(*args, **kwargs):\n",
    "    print(\"LOG: \", args, kwargs)\n",
    "    return f(*args, **kwargs)\n",
    "  return wrapper\n",
    "\n",
    "@replace\n",
    "def one_arg(x):\n",
    "    \"Function of one argument\"\n",
    "    print(\"One arg and it was: {}\".format(x))\n",
    "\n",
    "\n",
    "@replace\n",
    "def super_flexible(*args, **kwargs):\n",
    "    print(\"Called a variety of ways: {}, {}\".format(args, kwargs))\n"
   ]
  },
  {
   "cell_type": "code",
   "execution_count": 2,
   "metadata": {},
   "outputs": [
    {
     "name": "stdout",
     "output_type": "stream",
     "text": [
      "LOG:  (10,) {}\n",
      "One arg and it was: 10\n",
      "LOG:  (1, 2, 3) {'y': 10}\n",
      "Called a variety of ways: (1, 2, 3), {'y': 10}\n",
      "Access metadata for <function replace.<locals>.wrapper at 0x7f05180cb7f0>\n",
      "None\n"
     ]
    }
   ],
   "source": [
    "one_arg(10)\n",
    "super_flexible(1, 2, 3, y=10)\n",
    "print(\"Access metadata for {}\".format(one_arg))\n",
    "print(inspect.getdoc(one_arg))"
   ]
  }
 ],
 "metadata": {
  "kernelspec": {
   "display_name": "Python 3",
   "language": "python",
   "name": "python3"
  },
  "language_info": {
   "codemirror_mode": {
    "name": "ipython",
    "version": 3
   },
   "file_extension": ".py",
   "mimetype": "text/x-python",
   "name": "python",
   "nbconvert_exporter": "python",
   "pygments_lexer": "ipython3",
   "version": "3.10.13"
  }
 },
 "nbformat": 4,
 "nbformat_minor": 2
}
